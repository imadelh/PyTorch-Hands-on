{
  "nbformat": 4,
  "nbformat_minor": 0,
  "metadata": {
    "colab": {
      "name": "PyTorch-Intro.ipynb",
      "version": "0.3.2",
      "views": {},
      "default_view": {},
      "provenance": [],
      "collapsed_sections": []
    },
    "kernelspec": {
      "name": "python3",
      "display_name": "Python 3"
    },
    "accelerator": "GPU"
  },
  "cells": [
    {
      "metadata": {
        "id": "pL8wGMxLuEuG",
        "colab_type": "text"
      },
      "cell_type": "markdown",
      "source": [
        "# PyTorch \n",
        "\n",
        "First we start by installing PyTorch. I am working on a linux machine with a TESLA K-80 GPU (follow installation details explained here for other machines: http://pytorch.org)"
      ]
    },
    {
      "metadata": {
        "id": "9m6eWc6MuDxS",
        "colab_type": "code",
        "colab": {
          "autoexec": {
            "startup": false,
            "wait_interval": 0
          },
          "output_extras": [
            {
              "item_id": 22
            }
          ],
          "base_uri": "https://localhost:8080/",
          "height": 306
        },
        "outputId": "a9b70c71-c5fb-4f3d-c441-87f94a4b0fcc",
        "executionInfo": {
          "status": "ok",
          "timestamp": 1522868915300,
          "user_tz": -120,
          "elapsed": 76866,
          "user": {
            "displayName": "Imad El Hanafi",
            "photoUrl": "https://lh3.googleusercontent.com/a/default-user=s128",
            "userId": "100919786130867571645"
          }
        }
      },
      "cell_type": "code",
      "source": [
        "!pip3 install torch torchvision"
      ],
      "execution_count": 2,
      "outputs": [
        {
          "output_type": "stream",
          "text": [
            "Collecting torch\n",
            "  Downloading torch-0.3.1-cp36-cp36m-manylinux1_x86_64.whl (496.4MB)\n",
            "\u001b[K    100% |████████████████████████████████| 496.4MB 2.7kB/s \n",
            "\u001b[?25hCollecting torchvision\n",
            "  Downloading torchvision-0.2.0-py2.py3-none-any.whl (48kB)\n",
            "\u001b[K    100% |████████████████████████████████| 51kB 8.5MB/s \n",
            "\u001b[?25hRequirement already satisfied: pyyaml in /usr/local/lib/python3.6/dist-packages (from torch)\n",
            "Requirement already satisfied: numpy in /usr/local/lib/python3.6/dist-packages (from torch)\n",
            "Collecting pillow>=4.1.1 (from torchvision)\n",
            "  Downloading Pillow-5.1.0-cp36-cp36m-manylinux1_x86_64.whl (2.0MB)\n",
            "\u001b[K    100% |████████████████████████████████| 2.0MB 696kB/s \n",
            "\u001b[?25hRequirement already satisfied: six in /usr/local/lib/python3.6/dist-packages (from torchvision)\n",
            "Installing collected packages: torch, pillow, torchvision\n",
            "  Found existing installation: Pillow 4.0.0\n",
            "    Uninstalling Pillow-4.0.0:\n",
            "      Successfully uninstalled Pillow-4.0.0\n",
            "Successfully installed pillow-5.1.0 torch-0.3.1 torchvision-0.2.0\n"
          ],
          "name": "stdout"
        }
      ]
    },
    {
      "metadata": {
        "id": "G_3NoZ1rwFuH",
        "colab_type": "text"
      },
      "cell_type": "markdown",
      "source": [
        "# Introduction \n",
        "\n",
        "The main goal of this part is to familiarize with PyTorch and tensor computations (and interaction with numpy arrays).\n",
        "First we start by importing the PyTorch library and check the compatibility with the GPU. \n"
      ]
    },
    {
      "metadata": {
        "id": "lty4HgWDuV-B",
        "colab_type": "code",
        "colab": {
          "autoexec": {
            "startup": false,
            "wait_interval": 0
          },
          "output_extras": [
            {
              "item_id": 1
            }
          ],
          "base_uri": "https://localhost:8080/",
          "height": 34
        },
        "outputId": "2d539631-594b-4b5b-c452-564febead32e",
        "executionInfo": {
          "status": "ok",
          "timestamp": 1522870626491,
          "user_tz": -120,
          "elapsed": 446,
          "user": {
            "displayName": "Imad El Hanafi",
            "photoUrl": "https://lh3.googleusercontent.com/a/default-user=s128",
            "userId": "100919786130867571645"
          }
        }
      },
      "cell_type": "code",
      "source": [
        "# Import PyTorch\n",
        "import torch as th\n",
        "import numpy as np\n",
        "import time\n",
        "\n",
        "\n",
        "# Check if GPU is supported \n",
        "print(th.cuda.is_available())"
      ],
      "execution_count": 4,
      "outputs": [
        {
          "output_type": "stream",
          "text": [
            "True\n"
          ],
          "name": "stdout"
        }
      ]
    },
    {
      "metadata": {
        "id": "ybAsS4PVKRFa",
        "colab_type": "text"
      },
      "cell_type": "markdown",
      "source": [
        "We will show how to use PyTorch as an alternative for numpy to use the power of GPUs."
      ]
    },
    {
      "metadata": {
        "id": "PduUSZfDKReG",
        "colab_type": "code",
        "colab": {
          "autoexec": {
            "startup": false,
            "wait_interval": 0
          }
        }
      },
      "cell_type": "code",
      "source": [
        "n = 3\n",
        "\n",
        "x = th.FloatTensor(n).uniform_()\n",
        "y = th.FloatTensor(n).uniform_()"
      ],
      "execution_count": 0,
      "outputs": []
    },
    {
      "metadata": {
        "id": "1c3GBuoLKwdG",
        "colab_type": "code",
        "colab": {
          "autoexec": {
            "startup": false,
            "wait_interval": 0
          },
          "output_extras": [
            {
              "item_id": 1
            }
          ],
          "base_uri": "https://localhost:8080/",
          "height": 102
        },
        "outputId": "a7c767df-9c8f-449f-ee57-6659625eb00d",
        "executionInfo": {
          "status": "ok",
          "timestamp": 1522870719347,
          "user_tz": -120,
          "elapsed": 459,
          "user": {
            "displayName": "Imad El Hanafi",
            "photoUrl": "https://lh3.googleusercontent.com/a/default-user=s128",
            "userId": "100919786130867571645"
          }
        }
      },
      "cell_type": "code",
      "source": [
        "x"
      ],
      "execution_count": 6,
      "outputs": [
        {
          "output_type": "execute_result",
          "data": {
            "text/plain": [
              "\n",
              " 0.5192\n",
              " 0.4931\n",
              " 0.7591\n",
              "[torch.FloatTensor of size 3]"
            ]
          },
          "metadata": {
            "tags": []
          },
          "execution_count": 6
        }
      ]
    },
    {
      "metadata": {
        "id": "WVUJt13dKxFq",
        "colab_type": "code",
        "colab": {
          "autoexec": {
            "startup": false,
            "wait_interval": 0
          },
          "output_extras": [
            {
              "item_id": 1
            }
          ],
          "base_uri": "https://localhost:8080/",
          "height": 102
        },
        "outputId": "43945f2e-b3d1-48ba-eba5-bd7bbae84bf9",
        "executionInfo": {
          "status": "ok",
          "timestamp": 1522870722793,
          "user_tz": -120,
          "elapsed": 555,
          "user": {
            "displayName": "Imad El Hanafi",
            "photoUrl": "https://lh3.googleusercontent.com/a/default-user=s128",
            "userId": "100919786130867571645"
          }
        }
      },
      "cell_type": "code",
      "source": [
        "y"
      ],
      "execution_count": 7,
      "outputs": [
        {
          "output_type": "execute_result",
          "data": {
            "text/plain": [
              "\n",
              " 0.4605\n",
              " 0.8194\n",
              " 0.9945\n",
              "[torch.FloatTensor of size 3]"
            ]
          },
          "metadata": {
            "tags": []
          },
          "execution_count": 7
        }
      ]
    },
    {
      "metadata": {
        "id": "h8Rh9DS6Kx6L",
        "colab_type": "code",
        "colab": {
          "autoexec": {
            "startup": false,
            "wait_interval": 0
          },
          "output_extras": [
            {
              "item_id": 1
            }
          ],
          "base_uri": "https://localhost:8080/",
          "height": 34
        },
        "outputId": "8e636257-c3c3-481a-a38b-1e44a12d5b69",
        "executionInfo": {
          "status": "ok",
          "timestamp": 1522870777319,
          "user_tz": -120,
          "elapsed": 475,
          "user": {
            "displayName": "Imad El Hanafi",
            "photoUrl": "https://lh3.googleusercontent.com/a/default-user=s128",
            "userId": "100919786130867571645"
          }
        }
      },
      "cell_type": "code",
      "source": [
        "print(\"Shape of tensor x : \",x.shape[0])"
      ],
      "execution_count": 13,
      "outputs": [
        {
          "output_type": "stream",
          "text": [
            "Shape of tensor x :  3\n"
          ],
          "name": "stdout"
        }
      ]
    },
    {
      "metadata": {
        "id": "QQpEhAlBLNHQ",
        "colab_type": "text"
      },
      "cell_type": "markdown",
      "source": [
        "**From Numpy to PyTorch:** To move from a numpy array to a PyTorch tensor (PyTorch to numpy) we use the following functions"
      ]
    },
    {
      "metadata": {
        "id": "KVU_pSQZK3EM",
        "colab_type": "code",
        "colab": {
          "autoexec": {
            "startup": false,
            "wait_interval": 0
          }
        }
      },
      "cell_type": "code",
      "source": [
        "# Define a numpy array\n",
        "A = np.ones((n, n))\n",
        "\n",
        "# From numpy to PyTorch\n",
        "A_th = th.from_numpy(A)\n",
        "# Convert back to a numpy matrix\n",
        "A_np = A_th.numpy()"
      ],
      "execution_count": 0,
      "outputs": []
    },
    {
      "metadata": {
        "id": "tRtF3dHCMV8_",
        "colab_type": "code",
        "colab": {
          "autoexec": {
            "startup": false,
            "wait_interval": 0
          },
          "output_extras": [
            {
              "item_id": 1
            },
            {
              "item_id": 2
            }
          ],
          "base_uri": "https://localhost:8080/",
          "height": 204
        },
        "outputId": "157a8b4d-4ce9-4926-c7e3-e4c2df6b580e",
        "executionInfo": {
          "status": "ok",
          "timestamp": 1522871289408,
          "user_tz": -120,
          "elapsed": 488,
          "user": {
            "displayName": "Imad El Hanafi",
            "photoUrl": "https://lh3.googleusercontent.com/a/default-user=s128",
            "userId": "100919786130867571645"
          }
        }
      },
      "cell_type": "code",
      "source": [
        "print(\"Numpy Tensor:\")\n",
        "print(A_np)\n",
        "\n",
        "print(\"\\n PyTorch Tensor:\")\n",
        "A_th"
      ],
      "execution_count": 25,
      "outputs": [
        {
          "output_type": "stream",
          "text": [
            "Numpy Tensor:\n",
            "[[ 1.  1.  1.]\n",
            " [ 1. 66.  1.]\n",
            " [ 1.  1.  1.]]\n",
            "\n",
            " PyTorch Tensor:\n"
          ],
          "name": "stdout"
        },
        {
          "output_type": "execute_result",
          "data": {
            "text/plain": [
              "\n",
              "  1   1   1\n",
              "  1  66   1\n",
              "  1   1   1\n",
              "[torch.DoubleTensor of size 3x3]"
            ]
          },
          "metadata": {
            "tags": []
          },
          "execution_count": 25
        }
      ]
    },
    {
      "metadata": {
        "id": "zfYKgCkdMf5w",
        "colab_type": "text"
      },
      "cell_type": "markdown",
      "source": [
        "**Attention:** There is a reference from numpy to PyTorch. "
      ]
    },
    {
      "metadata": {
        "id": "5kJnnCvCMczC",
        "colab_type": "code",
        "colab": {
          "autoexec": {
            "startup": false,
            "wait_interval": 0
          },
          "output_extras": [
            {
              "item_id": 1
            }
          ],
          "base_uri": "https://localhost:8080/",
          "height": 102
        },
        "outputId": "a5e3d214-eb29-4ffe-830c-a7741067b0bc",
        "executionInfo": {
          "status": "ok",
          "timestamp": 1522875461701,
          "user_tz": -120,
          "elapsed": 418,
          "user": {
            "displayName": "Imad El Hanafi",
            "photoUrl": "https://lh3.googleusercontent.com/a/default-user=s128",
            "userId": "100919786130867571645"
          }
        }
      },
      "cell_type": "code",
      "source": [
        "A[1,1] = 66\n",
        "A_th"
      ],
      "execution_count": 79,
      "outputs": [
        {
          "output_type": "execute_result",
          "data": {
            "text/plain": [
              "\n",
              "  1   1   1\n",
              "  1  66   1\n",
              "  1   1   1\n",
              "[torch.DoubleTensor of size 3x3]"
            ]
          },
          "metadata": {
            "tags": []
          },
          "execution_count": 79
        }
      ]
    },
    {
      "metadata": {
        "id": "QIcmgsNnNPgk",
        "colab_type": "text"
      },
      "cell_type": "markdown",
      "source": [
        "## GPU Support"
      ]
    },
    {
      "metadata": {
        "id": "ZpjUXHmDNSlz",
        "colab_type": "text"
      },
      "cell_type": "markdown",
      "source": [
        "In PyTorch it is easy to move from CPU to GPU (and back). Here is an example:"
      ]
    },
    {
      "metadata": {
        "id": "0tSfAzd4MrNr",
        "colab_type": "code",
        "colab": {
          "autoexec": {
            "startup": false,
            "wait_interval": 0
          }
        }
      },
      "cell_type": "code",
      "source": [
        "\n",
        "# cuda() method\n",
        "gpu_tensor = A_th.cuda()\n",
        "\n",
        "\n",
        "# call back to the CPU\n",
        "cpu_tensor = gpu_tensor.cpu()"
      ],
      "execution_count": 0,
      "outputs": []
    },
    {
      "metadata": {
        "id": "wS6FDpGzOBuh",
        "colab_type": "code",
        "colab": {
          "autoexec": {
            "startup": false,
            "wait_interval": 0
          },
          "output_extras": [
            {
              "item_id": 1
            }
          ],
          "base_uri": "https://localhost:8080/",
          "height": 102
        },
        "outputId": "cb543e2e-4557-4b5f-daaf-c49304b713cb",
        "executionInfo": {
          "status": "ok",
          "timestamp": 1522871621151,
          "user_tz": -120,
          "elapsed": 469,
          "user": {
            "displayName": "Imad El Hanafi",
            "photoUrl": "https://lh3.googleusercontent.com/a/default-user=s128",
            "userId": "100919786130867571645"
          }
        }
      },
      "cell_type": "code",
      "source": [
        "#No reference from numpy : \n",
        "\n",
        "A[1,1] = 99\n",
        "gpu_tensor"
      ],
      "execution_count": 40,
      "outputs": [
        {
          "output_type": "execute_result",
          "data": {
            "text/plain": [
              "\n",
              "  1   1   1\n",
              "  1  66   1\n",
              "  1   1   1\n",
              "[torch.cuda.DoubleTensor of size 3x3 (GPU 0)]"
            ]
          },
          "metadata": {
            "tags": []
          },
          "execution_count": 40
        }
      ]
    },
    {
      "metadata": {
        "id": "vahcU7hnOXXD",
        "colab_type": "text"
      },
      "cell_type": "markdown",
      "source": [
        "# Comparing performances on matrix multiplication\n",
        "\n",
        "This comparison is biaised (CPU for Numpy and GPU for PyTorch) but it gives us an overview of the speed up and perfromance we can get when working on GPUs using PyTorch."
      ]
    },
    {
      "metadata": {
        "id": "qXesMmj6ObE-",
        "colab_type": "code",
        "colab": {
          "autoexec": {
            "startup": false,
            "wait_interval": 0
          }
        }
      },
      "cell_type": "code",
      "source": [
        "def comparison(matrix_size):\n",
        "  \n",
        "  matrix_sizes = range(500,matrix_size,100)\n",
        "  device_times = {\n",
        "        \"PyTorch-GPU\":[],\n",
        "        \"Numpy-cpu\":[]\n",
        "    }\n",
        "  \n",
        "  for size in matrix_sizes:\n",
        "    print(\"###############\")\n",
        "\n",
        "    print(\"Matrix size :\",size)\n",
        "\n",
        "    print(\"## Calculating on GPU using PyTorch ##\")\n",
        "    \n",
        "    ######## define matrix :     \n",
        "    \n",
        "    Mat = np.random.rand(size,size)\n",
        "    \n",
        "    # Convert to Torch and GPU\n",
        "    \n",
        "    Mat_th = th.from_numpy(Mat)\n",
        "    Mat_gpu = Mat_th.cuda()\n",
        "    \n",
        "    # Or directly in pytorch \n",
        "    # Mat = th.FloatTensor(size,size).uniform_()\n",
        "    # Mat_gpu = Mat.cuda()\n",
        "    \n",
        "    \n",
        "    ########## PyTorch computations  :\n",
        "    \n",
        "    start_time = time.time()\n",
        "    \n",
        "    results = th.matmul(Mat_gpu,Mat_gpu)\n",
        "    \n",
        "    time_taken = time.time() - start_time\n",
        "    device_times['PyTorch-GPU'].append(time_taken)\n",
        "    print(\"in (seconds): \",time_taken)\n",
        "  \n",
        "   ########## Numpy computations :\n",
        "    print(\"## Calculating on CPU using Numpy ##\")\n",
        "\n",
        "   \n",
        "    start_time = time.time() \n",
        "    results = np.matmul(Mat,Mat)\n",
        "    time_taken = time.time() - start_time\n",
        "    \n",
        "    device_times['Numpy-cpu'].append(time_taken)\n",
        "    print(\"in (seconds): \",time_taken)\n",
        "\n",
        "  \n",
        "  return device_times\n"
      ],
      "execution_count": 0,
      "outputs": []
    },
    {
      "metadata": {
        "id": "PkKVIe-9QBtV",
        "colab_type": "code",
        "colab": {
          "autoexec": {
            "startup": false,
            "wait_interval": 0
          },
          "output_extras": [
            {
              "item_id": 25
            }
          ],
          "base_uri": "https://localhost:8080/",
          "height": 3077
        },
        "outputId": "b02e9883-775d-4e59-c1eb-159db26fcfeb",
        "executionInfo": {
          "status": "ok",
          "timestamp": 1522876741771,
          "user_tz": -120,
          "elapsed": 28975,
          "user": {
            "displayName": "Imad El Hanafi",
            "photoUrl": "https://lh3.googleusercontent.com/a/default-user=s128",
            "userId": "100919786130867571645"
          }
        }
      },
      "cell_type": "code",
      "source": [
        "matrix_size = 3500\n",
        "\n",
        "results = comparison(matrix_size)"
      ],
      "execution_count": 87,
      "outputs": [
        {
          "output_type": "stream",
          "text": [
            "###############\n",
            "Matrix size : 500\n",
            "## Calculating on GPU using PyTorch ##\n",
            "in (seconds):  0.00011277198791503906\n",
            "## Calculating on CPU using Numpy ##\n",
            "in (seconds):  0.011100530624389648\n",
            "###############\n",
            "Matrix size : 600\n",
            "## Calculating on GPU using PyTorch ##\n",
            "in (seconds):  0.00018787384033203125\n",
            "## Calculating on CPU using Numpy ##\n",
            "in (seconds):  0.018786907196044922\n",
            "###############\n",
            "Matrix size : 700\n",
            "## Calculating on GPU using PyTorch ##\n",
            "in (seconds):  0.0001926422119140625\n",
            "## Calculating on CPU using Numpy ##\n",
            "in (seconds):  0.0260770320892334\n",
            "###############\n",
            "Matrix size : 800\n",
            "## Calculating on GPU using PyTorch ##\n",
            "in (seconds):  0.00019359588623046875\n",
            "## Calculating on CPU using Numpy ##\n",
            "in (seconds):  0.038021087646484375\n",
            "###############\n",
            "Matrix size : 900\n",
            "## Calculating on GPU using PyTorch ##\n",
            "in (seconds):  0.00018906593322753906\n",
            "## Calculating on CPU using Numpy ##\n",
            "in (seconds):  0.06395220756530762\n",
            "###############\n",
            "Matrix size : 1000\n",
            "## Calculating on GPU using PyTorch ##\n",
            "in (seconds):  0.00018930435180664062\n",
            "## Calculating on CPU using Numpy ##\n",
            "in (seconds):  0.07387185096740723\n",
            "###############\n",
            "Matrix size : 1100\n",
            "## Calculating on GPU using PyTorch ##\n",
            "in (seconds):  0.0001933574676513672\n",
            "## Calculating on CPU using Numpy ##\n",
            "in (seconds):  0.11226534843444824\n",
            "###############\n",
            "Matrix size : 1200\n",
            "## Calculating on GPU using PyTorch ##\n",
            "in (seconds):  0.00020551681518554688\n",
            "## Calculating on CPU using Numpy ##\n",
            "in (seconds):  0.13472819328308105\n",
            "###############\n",
            "Matrix size : 1300\n",
            "## Calculating on GPU using PyTorch ##\n",
            "in (seconds):  0.00021147727966308594\n",
            "## Calculating on CPU using Numpy ##\n",
            "in (seconds):  0.17398548126220703\n",
            "###############\n",
            "Matrix size : 1400\n",
            "## Calculating on GPU using PyTorch ##\n",
            "in (seconds):  0.00019121170043945312\n",
            "## Calculating on CPU using Numpy ##\n",
            "in (seconds):  0.20999646186828613\n",
            "###############\n",
            "Matrix size : 1500\n",
            "## Calculating on GPU using PyTorch ##\n",
            "in (seconds):  0.0001957416534423828\n",
            "## Calculating on CPU using Numpy ##\n",
            "in (seconds):  0.26024436950683594\n",
            "###############\n",
            "Matrix size : 1600\n",
            "## Calculating on GPU using PyTorch ##\n",
            "in (seconds):  0.00019598007202148438\n",
            "## Calculating on CPU using Numpy ##\n",
            "in (seconds):  0.3049948215484619\n",
            "###############\n",
            "Matrix size : 1700\n",
            "## Calculating on GPU using PyTorch ##\n",
            "in (seconds):  0.00019550323486328125\n",
            "## Calculating on CPU using Numpy ##\n",
            "in (seconds):  0.372485876083374\n",
            "###############\n",
            "Matrix size : 1800\n",
            "## Calculating on GPU using PyTorch ##\n",
            "in (seconds):  0.0001983642578125\n",
            "## Calculating on CPU using Numpy ##\n",
            "in (seconds):  0.4322800636291504\n",
            "###############\n",
            "Matrix size : 1900\n",
            "## Calculating on GPU using PyTorch ##\n",
            "in (seconds):  0.0002009868621826172\n",
            "## Calculating on CPU using Numpy ##\n",
            "in (seconds):  0.5075311660766602\n",
            "###############\n",
            "Matrix size : 2000\n",
            "## Calculating on GPU using PyTorch ##\n",
            "in (seconds):  0.00021719932556152344\n",
            "## Calculating on CPU using Numpy ##\n",
            "in (seconds):  0.5840318202972412\n",
            "###############\n",
            "Matrix size : 2100\n",
            "## Calculating on GPU using PyTorch ##\n",
            "in (seconds):  0.0002155303955078125\n",
            "## Calculating on CPU using Numpy ##\n",
            "in (seconds):  0.6876308917999268\n",
            "###############\n",
            "Matrix size : 2200\n",
            "## Calculating on GPU using PyTorch ##\n",
            "in (seconds):  0.00020766258239746094\n",
            "## Calculating on CPU using Numpy ##\n",
            "in (seconds):  0.7911989688873291\n",
            "###############\n",
            "Matrix size : 2300\n",
            "## Calculating on GPU using PyTorch ##\n",
            "in (seconds):  0.00021529197692871094\n",
            "## Calculating on CPU using Numpy ##\n",
            "in (seconds):  0.9052326679229736\n",
            "###############\n",
            "Matrix size : 2400\n",
            "## Calculating on GPU using PyTorch ##\n",
            "in (seconds):  0.0002033710479736328\n",
            "## Calculating on CPU using Numpy ##\n",
            "in (seconds):  1.0042786598205566\n",
            "###############\n",
            "Matrix size : 2500\n",
            "## Calculating on GPU using PyTorch ##\n",
            "in (seconds):  0.00016641616821289062\n",
            "## Calculating on CPU using Numpy ##\n",
            "in (seconds):  1.1430251598358154\n",
            "###############\n",
            "Matrix size : 2600\n",
            "## Calculating on GPU using PyTorch ##\n",
            "in (seconds):  0.00017523765563964844\n",
            "## Calculating on CPU using Numpy ##\n",
            "in (seconds):  1.2750318050384521\n",
            "###############\n",
            "Matrix size : 2700\n",
            "## Calculating on GPU using PyTorch ##\n",
            "in (seconds):  0.00018453598022460938\n",
            "## Calculating on CPU using Numpy ##\n",
            "in (seconds):  1.432997703552246\n",
            "###############\n",
            "Matrix size : 2800\n",
            "## Calculating on GPU using PyTorch ##\n",
            "in (seconds):  0.00017309188842773438\n",
            "## Calculating on CPU using Numpy ##\n",
            "in (seconds):  1.5828161239624023\n",
            "###############\n",
            "Matrix size : 2900\n",
            "## Calculating on GPU using PyTorch ##\n",
            "in (seconds):  0.00019812583923339844\n",
            "## Calculating on CPU using Numpy ##\n",
            "in (seconds):  1.7824735641479492\n",
            "###############\n",
            "Matrix size : 3000\n",
            "## Calculating on GPU using PyTorch ##\n",
            "in (seconds):  0.00019359588623046875\n",
            "## Calculating on CPU using Numpy ##\n",
            "in (seconds):  1.9466919898986816\n",
            "###############\n",
            "Matrix size : 3100\n",
            "## Calculating on GPU using PyTorch ##\n",
            "in (seconds):  0.00018405914306640625\n",
            "## Calculating on CPU using Numpy ##\n",
            "in (seconds):  2.177027463912964\n",
            "###############\n",
            "Matrix size : 3200\n",
            "## Calculating on GPU using PyTorch ##\n",
            "in (seconds):  0.00011754035949707031\n",
            "## Calculating on CPU using Numpy ##\n",
            "in (seconds):  2.375744581222534\n",
            "###############\n",
            "Matrix size : 3300\n",
            "## Calculating on GPU using PyTorch ##\n",
            "in (seconds):  0.00017881393432617188\n",
            "## Calculating on CPU using Numpy ##\n",
            "in (seconds):  2.6390509605407715\n",
            "###############\n",
            "Matrix size : 3400\n",
            "## Calculating on GPU using PyTorch ##\n",
            "in (seconds):  0.00017690658569335938\n",
            "## Calculating on CPU using Numpy ##\n",
            "in (seconds):  2.8230948448181152\n"
          ],
          "name": "stdout"
        }
      ]
    },
    {
      "metadata": {
        "id": "5y3Vu1eiQToa",
        "colab_type": "code",
        "colab": {
          "autoexec": {
            "startup": false,
            "wait_interval": 0
          },
          "output_extras": [
            {
              "item_id": 1
            }
          ],
          "base_uri": "https://localhost:8080/",
          "height": 457
        },
        "outputId": "38cab636-0cef-49d9-e403-5cedac7be176",
        "executionInfo": {
          "status": "ok",
          "timestamp": 1522876755337,
          "user_tz": -120,
          "elapsed": 597,
          "user": {
            "displayName": "Imad El Hanafi",
            "photoUrl": "https://lh3.googleusercontent.com/a/default-user=s128",
            "userId": "100919786130867571645"
          }
        }
      },
      "cell_type": "code",
      "source": [
        "import matplotlib.pyplot as plt\n",
        "%matplotlib inline\n",
        "\n",
        "gpu_times = results[\"PyTorch-GPU\"]\n",
        "cpu_times = results[\"Numpy-cpu\"]\n",
        "\n",
        "xx = range(500,matrix_size,100)\n",
        "plt.figure(figsize = (12,7))\n",
        "plt.title('Matrix multiplication - computation time')\n",
        "plt.plot(xx,gpu_times, 'o-', label = \"PyTorch on GPU\")\n",
        "plt.plot(xx,cpu_times, 'o-', label = 'Numpy on CPU')\n",
        "plt.ylabel('Time (in seconds)')\n",
        "plt.xlabel('Matrix size (x)')\n",
        "plt.legend()\n",
        "plt.show()"
      ],
      "execution_count": 89,
      "outputs": [
        {
          "output_type": "display_data",
          "data": {
            "image/png": "[encoded data removed]",
            "text/plain": [
              "<matplotlib.figure.Figure at 0x7f781069ca20>"
            ]
          },
          "metadata": {
            "tags": []
          }
        }
      ]
    },
    {
      "metadata": {
        "id": "87uBxDPJUSi1",
        "colab_type": "text"
      },
      "cell_type": "markdown",
      "source": [
        "It is clear that moving the computations to the GPU (with PyTorch) is much faster than classic Numpy. \n",
        "\n",
        "The PyTorch documentation: http://pytorch.org/docs/master/index.html\n"
      ]
    },
    {
      "metadata": {
        "id": "x8dAffFYU6HO",
        "colab_type": "text"
      },
      "cell_type": "markdown",
      "source": [
        "----\n",
        "\n",
        "Imad El "
      ]
    }
  ]
}